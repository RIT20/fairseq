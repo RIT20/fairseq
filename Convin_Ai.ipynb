{
  "nbformat": 4,
  "nbformat_minor": 0,
  "metadata": {
    "colab": {
      "name": "Convin.Ai",
      "provenance": [],
      "mount_file_id": "1Ye-b5uRVovW7RNLVwctU_P60aIvhUMrD",
      "authorship_tag": "ABX9TyNt9e6Q6J33l3EuebkVvzqA",
      "include_colab_link": true
    },
    "kernelspec": {
      "name": "python3",
      "display_name": "Python 3"
    },
    "language_info": {
      "name": "python"
    },
    "widgets": {
      "application/vnd.jupyter.widget-state+json": {
        "58ac28e0673841efa9306a2275899398": {
          "model_module": "@jupyter-widgets/controls",
          "model_name": "HBoxModel",
          "state": {
            "_view_name": "HBoxView",
            "_dom_classes": [],
            "_model_name": "HBoxModel",
            "_view_module": "@jupyter-widgets/controls",
            "_model_module_version": "1.5.0",
            "_view_count": null,
            "_view_module_version": "1.5.0",
            "box_style": "",
            "layout": "IPY_MODEL_a450a9bead0b4d6499ac7ef45ece1321",
            "_model_module": "@jupyter-widgets/controls",
            "children": [
              "IPY_MODEL_e29354cdf8f7491db63d10cd3f71356a",
              "IPY_MODEL_c297f04ce69a436ba88a84deeaa46ad5",
              "IPY_MODEL_ef64c5cb3bbf4300b4cab4f410a291f2"
            ]
          }
        },
        "a450a9bead0b4d6499ac7ef45ece1321": {
          "model_module": "@jupyter-widgets/base",
          "model_name": "LayoutModel",
          "state": {
            "_view_name": "LayoutView",
            "grid_template_rows": null,
            "right": null,
            "justify_content": null,
            "_view_module": "@jupyter-widgets/base",
            "overflow": null,
            "_model_module_version": "1.2.0",
            "_view_count": null,
            "flex_flow": null,
            "width": null,
            "min_width": null,
            "border": null,
            "align_items": null,
            "bottom": null,
            "_model_module": "@jupyter-widgets/base",
            "top": null,
            "grid_column": null,
            "overflow_y": null,
            "overflow_x": null,
            "grid_auto_flow": null,
            "grid_area": null,
            "grid_template_columns": null,
            "flex": null,
            "_model_name": "LayoutModel",
            "justify_items": null,
            "grid_row": null,
            "max_height": null,
            "align_content": null,
            "visibility": null,
            "align_self": null,
            "height": null,
            "min_height": null,
            "padding": null,
            "grid_auto_rows": null,
            "grid_gap": null,
            "max_width": null,
            "order": null,
            "_view_module_version": "1.2.0",
            "grid_template_areas": null,
            "object_position": null,
            "object_fit": null,
            "grid_auto_columns": null,
            "margin": null,
            "display": null,
            "left": null
          }
        },
        "e29354cdf8f7491db63d10cd3f71356a": {
          "model_module": "@jupyter-widgets/controls",
          "model_name": "HTMLModel",
          "state": {
            "_view_name": "HTMLView",
            "style": "IPY_MODEL_a21e2d662ae1460bb1fd29af3f757065",
            "_dom_classes": [],
            "description": "",
            "_model_name": "HTMLModel",
            "placeholder": "​",
            "_view_module": "@jupyter-widgets/controls",
            "_model_module_version": "1.5.0",
            "value": "Downloading: 100%",
            "_view_count": null,
            "_view_module_version": "1.5.0",
            "description_tooltip": null,
            "_model_module": "@jupyter-widgets/controls",
            "layout": "IPY_MODEL_e0353b98cd7e43679e2b8973c14ad6ba"
          }
        },
        "c297f04ce69a436ba88a84deeaa46ad5": {
          "model_module": "@jupyter-widgets/controls",
          "model_name": "FloatProgressModel",
          "state": {
            "_view_name": "ProgressView",
            "style": "IPY_MODEL_3f988e1b966942c88290f8e75526bfe1",
            "_dom_classes": [],
            "description": "",
            "_model_name": "FloatProgressModel",
            "bar_style": "success",
            "max": 159,
            "_view_module": "@jupyter-widgets/controls",
            "_model_module_version": "1.5.0",
            "value": 159,
            "_view_count": null,
            "_view_module_version": "1.5.0",
            "orientation": "horizontal",
            "min": 0,
            "description_tooltip": null,
            "_model_module": "@jupyter-widgets/controls",
            "layout": "IPY_MODEL_2902659fdc9e496f8c7fd9c24505db52"
          }
        },
        "ef64c5cb3bbf4300b4cab4f410a291f2": {
          "model_module": "@jupyter-widgets/controls",
          "model_name": "HTMLModel",
          "state": {
            "_view_name": "HTMLView",
            "style": "IPY_MODEL_51cbcdbc22d548c082c7a3b05b70d7b2",
            "_dom_classes": [],
            "description": "",
            "_model_name": "HTMLModel",
            "placeholder": "​",
            "_view_module": "@jupyter-widgets/controls",
            "_model_module_version": "1.5.0",
            "value": " 159/159 [00:00&lt;00:00, 2.39kB/s]",
            "_view_count": null,
            "_view_module_version": "1.5.0",
            "description_tooltip": null,
            "_model_module": "@jupyter-widgets/controls",
            "layout": "IPY_MODEL_3ac746633fdf450d8130a5469b4ce9cc"
          }
        },
        "a21e2d662ae1460bb1fd29af3f757065": {
          "model_module": "@jupyter-widgets/controls",
          "model_name": "DescriptionStyleModel",
          "state": {
            "_view_name": "StyleView",
            "_model_name": "DescriptionStyleModel",
            "description_width": "",
            "_view_module": "@jupyter-widgets/base",
            "_model_module_version": "1.5.0",
            "_view_count": null,
            "_view_module_version": "1.2.0",
            "_model_module": "@jupyter-widgets/controls"
          }
        },
        "e0353b98cd7e43679e2b8973c14ad6ba": {
          "model_module": "@jupyter-widgets/base",
          "model_name": "LayoutModel",
          "state": {
            "_view_name": "LayoutView",
            "grid_template_rows": null,
            "right": null,
            "justify_content": null,
            "_view_module": "@jupyter-widgets/base",
            "overflow": null,
            "_model_module_version": "1.2.0",
            "_view_count": null,
            "flex_flow": null,
            "width": null,
            "min_width": null,
            "border": null,
            "align_items": null,
            "bottom": null,
            "_model_module": "@jupyter-widgets/base",
            "top": null,
            "grid_column": null,
            "overflow_y": null,
            "overflow_x": null,
            "grid_auto_flow": null,
            "grid_area": null,
            "grid_template_columns": null,
            "flex": null,
            "_model_name": "LayoutModel",
            "justify_items": null,
            "grid_row": null,
            "max_height": null,
            "align_content": null,
            "visibility": null,
            "align_self": null,
            "height": null,
            "min_height": null,
            "padding": null,
            "grid_auto_rows": null,
            "grid_gap": null,
            "max_width": null,
            "order": null,
            "_view_module_version": "1.2.0",
            "grid_template_areas": null,
            "object_position": null,
            "object_fit": null,
            "grid_auto_columns": null,
            "margin": null,
            "display": null,
            "left": null
          }
        },
        "3f988e1b966942c88290f8e75526bfe1": {
          "model_module": "@jupyter-widgets/controls",
          "model_name": "ProgressStyleModel",
          "state": {
            "_view_name": "StyleView",
            "_model_name": "ProgressStyleModel",
            "description_width": "",
            "_view_module": "@jupyter-widgets/base",
            "_model_module_version": "1.5.0",
            "_view_count": null,
            "_view_module_version": "1.2.0",
            "bar_color": null,
            "_model_module": "@jupyter-widgets/controls"
          }
        },
        "2902659fdc9e496f8c7fd9c24505db52": {
          "model_module": "@jupyter-widgets/base",
          "model_name": "LayoutModel",
          "state": {
            "_view_name": "LayoutView",
            "grid_template_rows": null,
            "right": null,
            "justify_content": null,
            "_view_module": "@jupyter-widgets/base",
            "overflow": null,
            "_model_module_version": "1.2.0",
            "_view_count": null,
            "flex_flow": null,
            "width": null,
            "min_width": null,
            "border": null,
            "align_items": null,
            "bottom": null,
            "_model_module": "@jupyter-widgets/base",
            "top": null,
            "grid_column": null,
            "overflow_y": null,
            "overflow_x": null,
            "grid_auto_flow": null,
            "grid_area": null,
            "grid_template_columns": null,
            "flex": null,
            "_model_name": "LayoutModel",
            "justify_items": null,
            "grid_row": null,
            "max_height": null,
            "align_content": null,
            "visibility": null,
            "align_self": null,
            "height": null,
            "min_height": null,
            "padding": null,
            "grid_auto_rows": null,
            "grid_gap": null,
            "max_width": null,
            "order": null,
            "_view_module_version": "1.2.0",
            "grid_template_areas": null,
            "object_position": null,
            "object_fit": null,
            "grid_auto_columns": null,
            "margin": null,
            "display": null,
            "left": null
          }
        },
        "51cbcdbc22d548c082c7a3b05b70d7b2": {
          "model_module": "@jupyter-widgets/controls",
          "model_name": "DescriptionStyleModel",
          "state": {
            "_view_name": "StyleView",
            "_model_name": "DescriptionStyleModel",
            "description_width": "",
            "_view_module": "@jupyter-widgets/base",
            "_model_module_version": "1.5.0",
            "_view_count": null,
            "_view_module_version": "1.2.0",
            "_model_module": "@jupyter-widgets/controls"
          }
        },
        "3ac746633fdf450d8130a5469b4ce9cc": {
          "model_module": "@jupyter-widgets/base",
          "model_name": "LayoutModel",
          "state": {
            "_view_name": "LayoutView",
            "grid_template_rows": null,
            "right": null,
            "justify_content": null,
            "_view_module": "@jupyter-widgets/base",
            "overflow": null,
            "_model_module_version": "1.2.0",
            "_view_count": null,
            "flex_flow": null,
            "width": null,
            "min_width": null,
            "border": null,
            "align_items": null,
            "bottom": null,
            "_model_module": "@jupyter-widgets/base",
            "top": null,
            "grid_column": null,
            "overflow_y": null,
            "overflow_x": null,
            "grid_auto_flow": null,
            "grid_area": null,
            "grid_template_columns": null,
            "flex": null,
            "_model_name": "LayoutModel",
            "justify_items": null,
            "grid_row": null,
            "max_height": null,
            "align_content": null,
            "visibility": null,
            "align_self": null,
            "height": null,
            "min_height": null,
            "padding": null,
            "grid_auto_rows": null,
            "grid_gap": null,
            "max_width": null,
            "order": null,
            "_view_module_version": "1.2.0",
            "grid_template_areas": null,
            "object_position": null,
            "object_fit": null,
            "grid_auto_columns": null,
            "margin": null,
            "display": null,
            "left": null
          }
        }
      }
    }
  },
  "cells": [
    {
      "cell_type": "markdown",
      "metadata": {
        "id": "view-in-github",
        "colab_type": "text"
      },
      "source": [
        "<a href=\"https://colab.research.google.com/github/RIT20/fairseq/blob/master/Convin_Ai.ipynb\" target=\"_parent\"><img src=\"https://colab.research.google.com/assets/colab-badge.svg\" alt=\"Open In Colab\"/></a>"
      ]
    },
    {
      "cell_type": "code",
      "metadata": {
        "colab": {
          "base_uri": "https://localhost:8080/"
        },
        "id": "IirifuDcf21f",
        "outputId": "d779c36c-2a70-4677-872a-885a4cc76b1e"
      },
      "source": [
        "!pip install transformers\n",
        "!pip install datasets"
      ],
      "execution_count": 1,
      "outputs": [
        {
          "output_type": "stream",
          "text": [
            "Collecting transformers\n",
            "  Downloading transformers-4.9.1-py3-none-any.whl (2.6 MB)\n",
            "\u001b[K     |████████████████████████████████| 2.6 MB 5.0 MB/s \n",
            "\u001b[?25hRequirement already satisfied: requests in /usr/local/lib/python3.7/dist-packages (from transformers) (2.23.0)\n",
            "Requirement already satisfied: packaging in /usr/local/lib/python3.7/dist-packages (from transformers) (21.0)\n",
            "Requirement already satisfied: importlib-metadata in /usr/local/lib/python3.7/dist-packages (from transformers) (4.6.1)\n",
            "Collecting sacremoses\n",
            "  Downloading sacremoses-0.0.45-py3-none-any.whl (895 kB)\n",
            "\u001b[K     |████████████████████████████████| 895 kB 42.3 MB/s \n",
            "\u001b[?25hRequirement already satisfied: numpy>=1.17 in /usr/local/lib/python3.7/dist-packages (from transformers) (1.19.5)\n",
            "Collecting pyyaml>=5.1\n",
            "  Downloading PyYAML-5.4.1-cp37-cp37m-manylinux1_x86_64.whl (636 kB)\n",
            "\u001b[K     |████████████████████████████████| 636 kB 50.5 MB/s \n",
            "\u001b[?25hRequirement already satisfied: regex!=2019.12.17 in /usr/local/lib/python3.7/dist-packages (from transformers) (2019.12.20)\n",
            "Requirement already satisfied: filelock in /usr/local/lib/python3.7/dist-packages (from transformers) (3.0.12)\n",
            "Collecting huggingface-hub==0.0.12\n",
            "  Downloading huggingface_hub-0.0.12-py3-none-any.whl (37 kB)\n",
            "Collecting tokenizers<0.11,>=0.10.1\n",
            "  Downloading tokenizers-0.10.3-cp37-cp37m-manylinux_2_5_x86_64.manylinux1_x86_64.manylinux_2_12_x86_64.manylinux2010_x86_64.whl (3.3 MB)\n",
            "\u001b[K     |████████████████████████████████| 3.3 MB 46.2 MB/s \n",
            "\u001b[?25hRequirement already satisfied: tqdm>=4.27 in /usr/local/lib/python3.7/dist-packages (from transformers) (4.41.1)\n",
            "Requirement already satisfied: typing-extensions in /usr/local/lib/python3.7/dist-packages (from huggingface-hub==0.0.12->transformers) (3.7.4.3)\n",
            "Requirement already satisfied: pyparsing>=2.0.2 in /usr/local/lib/python3.7/dist-packages (from packaging->transformers) (2.4.7)\n",
            "Requirement already satisfied: zipp>=0.5 in /usr/local/lib/python3.7/dist-packages (from importlib-metadata->transformers) (3.5.0)\n",
            "Requirement already satisfied: urllib3!=1.25.0,!=1.25.1,<1.26,>=1.21.1 in /usr/local/lib/python3.7/dist-packages (from requests->transformers) (1.24.3)\n",
            "Requirement already satisfied: chardet<4,>=3.0.2 in /usr/local/lib/python3.7/dist-packages (from requests->transformers) (3.0.4)\n",
            "Requirement already satisfied: certifi>=2017.4.17 in /usr/local/lib/python3.7/dist-packages (from requests->transformers) (2021.5.30)\n",
            "Requirement already satisfied: idna<3,>=2.5 in /usr/local/lib/python3.7/dist-packages (from requests->transformers) (2.10)\n",
            "Requirement already satisfied: joblib in /usr/local/lib/python3.7/dist-packages (from sacremoses->transformers) (1.0.1)\n",
            "Requirement already satisfied: six in /usr/local/lib/python3.7/dist-packages (from sacremoses->transformers) (1.15.0)\n",
            "Requirement already satisfied: click in /usr/local/lib/python3.7/dist-packages (from sacremoses->transformers) (7.1.2)\n",
            "Installing collected packages: tokenizers, sacremoses, pyyaml, huggingface-hub, transformers\n",
            "  Attempting uninstall: pyyaml\n",
            "    Found existing installation: PyYAML 3.13\n",
            "    Uninstalling PyYAML-3.13:\n",
            "      Successfully uninstalled PyYAML-3.13\n",
            "Successfully installed huggingface-hub-0.0.12 pyyaml-5.4.1 sacremoses-0.0.45 tokenizers-0.10.3 transformers-4.9.1\n",
            "Collecting datasets\n",
            "  Downloading datasets-1.11.0-py3-none-any.whl (264 kB)\n",
            "\u001b[K     |████████████████████████████████| 264 kB 5.0 MB/s \n",
            "\u001b[?25hCollecting fsspec>=2021.05.0\n",
            "  Downloading fsspec-2021.7.0-py3-none-any.whl (118 kB)\n",
            "\u001b[K     |████████████████████████████████| 118 kB 54.0 MB/s \n",
            "\u001b[?25hRequirement already satisfied: packaging in /usr/local/lib/python3.7/dist-packages (from datasets) (21.0)\n",
            "Collecting xxhash\n",
            "  Downloading xxhash-2.0.2-cp37-cp37m-manylinux2010_x86_64.whl (243 kB)\n",
            "\u001b[K     |████████████████████████████████| 243 kB 44.3 MB/s \n",
            "\u001b[?25hRequirement already satisfied: pandas in /usr/local/lib/python3.7/dist-packages (from datasets) (1.1.5)\n",
            "Requirement already satisfied: dill in /usr/local/lib/python3.7/dist-packages (from datasets) (0.3.4)\n",
            "Collecting tqdm>=4.42\n",
            "  Downloading tqdm-4.62.0-py2.py3-none-any.whl (76 kB)\n",
            "\u001b[K     |████████████████████████████████| 76 kB 4.1 MB/s \n",
            "\u001b[?25hRequirement already satisfied: multiprocess in /usr/local/lib/python3.7/dist-packages (from datasets) (0.70.12.2)\n",
            "Requirement already satisfied: numpy>=1.17 in /usr/local/lib/python3.7/dist-packages (from datasets) (1.19.5)\n",
            "Requirement already satisfied: pyarrow!=4.0.0,>=1.0.0 in /usr/local/lib/python3.7/dist-packages (from datasets) (3.0.0)\n",
            "Requirement already satisfied: importlib-metadata in /usr/local/lib/python3.7/dist-packages (from datasets) (4.6.1)\n",
            "Requirement already satisfied: huggingface-hub<0.1.0 in /usr/local/lib/python3.7/dist-packages (from datasets) (0.0.12)\n",
            "Requirement already satisfied: requests>=2.19.0 in /usr/local/lib/python3.7/dist-packages (from datasets) (2.23.0)\n",
            "Requirement already satisfied: typing-extensions in /usr/local/lib/python3.7/dist-packages (from huggingface-hub<0.1.0->datasets) (3.7.4.3)\n",
            "Requirement already satisfied: filelock in /usr/local/lib/python3.7/dist-packages (from huggingface-hub<0.1.0->datasets) (3.0.12)\n",
            "Requirement already satisfied: pyparsing>=2.0.2 in /usr/local/lib/python3.7/dist-packages (from packaging->datasets) (2.4.7)\n",
            "Requirement already satisfied: certifi>=2017.4.17 in /usr/local/lib/python3.7/dist-packages (from requests>=2.19.0->datasets) (2021.5.30)\n",
            "Requirement already satisfied: chardet<4,>=3.0.2 in /usr/local/lib/python3.7/dist-packages (from requests>=2.19.0->datasets) (3.0.4)\n",
            "Requirement already satisfied: idna<3,>=2.5 in /usr/local/lib/python3.7/dist-packages (from requests>=2.19.0->datasets) (2.10)\n",
            "Requirement already satisfied: urllib3!=1.25.0,!=1.25.1,<1.26,>=1.21.1 in /usr/local/lib/python3.7/dist-packages (from requests>=2.19.0->datasets) (1.24.3)\n",
            "Requirement already satisfied: zipp>=0.5 in /usr/local/lib/python3.7/dist-packages (from importlib-metadata->datasets) (3.5.0)\n",
            "Requirement already satisfied: python-dateutil>=2.7.3 in /usr/local/lib/python3.7/dist-packages (from pandas->datasets) (2.8.1)\n",
            "Requirement already satisfied: pytz>=2017.2 in /usr/local/lib/python3.7/dist-packages (from pandas->datasets) (2018.9)\n",
            "Requirement already satisfied: six>=1.5 in /usr/local/lib/python3.7/dist-packages (from python-dateutil>=2.7.3->pandas->datasets) (1.15.0)\n",
            "Installing collected packages: tqdm, xxhash, fsspec, datasets\n",
            "  Attempting uninstall: tqdm\n",
            "    Found existing installation: tqdm 4.41.1\n",
            "    Uninstalling tqdm-4.41.1:\n",
            "      Successfully uninstalled tqdm-4.41.1\n",
            "Successfully installed datasets-1.11.0 fsspec-2021.7.0 tqdm-4.62.0 xxhash-2.0.2\n"
          ],
          "name": "stdout"
        }
      ]
    },
    {
      "cell_type": "code",
      "metadata": {
        "id": "3ty6W-HrLayf"
      },
      "source": [
        "pip install pydub"
      ],
      "execution_count": null,
      "outputs": []
    },
    {
      "cell_type": "code",
      "metadata": {
        "id": "N1-_ah04gB7X"
      },
      "source": [
        "import soundfile as sf\n",
        "import torch\n",
        "from datasets import load_dataset\n",
        "from transformers import Wav2Vec2ForCTC, Wav2Vec2Processor\n",
        "from IPython.display import Audio\n",
        "from scipy.io import wavfile\n",
        "import numpy as np\n",
        "import librosa, librosa.display"
      ],
      "execution_count": 9,
      "outputs": []
    },
    {
      "cell_type": "code",
      "metadata": {
        "colab": {
          "base_uri": "https://localhost:8080/",
          "height": 83,
          "referenced_widgets": [
            "58ac28e0673841efa9306a2275899398",
            "a450a9bead0b4d6499ac7ef45ece1321",
            "e29354cdf8f7491db63d10cd3f71356a",
            "c297f04ce69a436ba88a84deeaa46ad5",
            "ef64c5cb3bbf4300b4cab4f410a291f2",
            "a21e2d662ae1460bb1fd29af3f757065",
            "e0353b98cd7e43679e2b8973c14ad6ba",
            "3f988e1b966942c88290f8e75526bfe1",
            "2902659fdc9e496f8c7fd9c24505db52",
            "51cbcdbc22d548c082c7a3b05b70d7b2",
            "3ac746633fdf450d8130a5469b4ce9cc"
          ]
        },
        "id": "QdburYbkgD-z",
        "outputId": "ca8e30ab-0676-498a-e58a-08da826a2f0e"
      },
      "source": [
        "processor = Wav2Vec2Processor.from_pretrained(\"facebook/wav2vec2-base-960h\")\n",
        "model = Wav2Vec2ForCTC.from_pretrained(\"facebook/wav2vec2-base-960h\")\n",
        "tokenizer = Wav2Vec2Tokenizer.from_pretrained(\"facebook/wav2vec2-base-960h\")"
      ],
      "execution_count": 2,
      "outputs": [
        {
          "output_type": "display_data",
          "data": {
            "application/vnd.jupyter.widget-view+json": {
              "model_id": "58ac28e0673841efa9306a2275899398",
              "version_minor": 0,
              "version_major": 2
            },
            "text/plain": [
              "Downloading:   0%|          | 0.00/159 [00:00<?, ?B/s]"
            ]
          },
          "metadata": {
            "tags": []
          }
        },
        {
          "output_type": "stream",
          "text": [
            "Some weights of Wav2Vec2ForCTC were not initialized from the model checkpoint at facebook/wav2vec2-base-960h and are newly initialized: ['wav2vec2.masked_spec_embed']\n",
            "You should probably TRAIN this model on a down-stream task to be able to use it for predictions and inference.\n"
          ],
          "name": "stderr"
        }
      ]
    },
    {
      "cell_type": "code",
      "metadata": {
        "colab": {
          "base_uri": "https://localhost:8080/"
        },
        "id": "5goOtBx2hsK-",
        "outputId": "37ad6ece-5173-4fd4-cc91-d593ba8ccf10"
      },
      "source": [
        "from pydub import AudioSegment\n",
        "sound = AudioSegment.from_mp3(\"/content/drive/MyDrive/Convin.Ai/sample_audio_1.mp3\")\n",
        "sound.export(\"/content/drive/MyDrive/Convin.Ai/sample_audio_1.wav\", format=\"wav\")"
      ],
      "execution_count": 7,
      "outputs": [
        {
          "output_type": "execute_result",
          "data": {
            "text/plain": [
              "<_io.BufferedRandom name='/content/drive/MyDrive/Convin.Ai/sample_audio_1.wav'>"
            ]
          },
          "metadata": {
            "tags": []
          },
          "execution_count": 7
        }
      ]
    },
    {
      "cell_type": "code",
      "metadata": {
        "id": "V0V_fY7GjuhX"
      },
      "source": [
        "file_name = '/content/drive/MyDrive/Convin.Ai/sample_audio_1.wav'\n",
        "Audio(file_name)\n"
      ],
      "execution_count": 10,
      "outputs": []
    },
    {
      "cell_type": "code",
      "metadata": {
        "id": "kDoYJgyMju5_"
      },
      "source": [
        "data = wavfile.read(file_name)\n",
        "framerate = data[0]\n",
        "sounddata = data[1]\n",
        "time = np.arange(0,len(sounddata))/framerate\n",
        "print('Sample rate:',framerate,'Hz')\n",
        "print('Total time:',len(sounddata)/framerate,'s')"
      ],
      "execution_count": null,
      "outputs": []
    },
    {
      "cell_type": "code",
      "metadata": {
        "id": "Ht2lswWJkrLM"
      },
      "source": [
        "input_audio, sample_rate = librosa.load(file_name, \n",
        "                              sr=16000)"
      ],
      "execution_count": 21,
      "outputs": []
    },
    {
      "cell_type": "code",
      "metadata": {
        "colab": {
          "base_uri": "https://localhost:8080/",
          "height": 296
        },
        "id": "sJSqAOvYmjXs",
        "outputId": "ae8e5783-3713-405a-ab12-18e4afc2a1d3"
      },
      "source": [
        "\n",
        "#plot between amplitude and time\n",
        "librosa.display.waveplot(input_audio, sr = sample_rate)"
      ],
      "execution_count": 23,
      "outputs": [
        {
          "output_type": "execute_result",
          "data": {
            "text/plain": [
              "<matplotlib.collections.PolyCollection at 0x7fd52716d590>"
            ]
          },
          "metadata": {
            "tags": []
          },
          "execution_count": 23
        },
        {
          "output_type": "display_data",
          "data": {
            "image/png": "[encoded data removed]",
            "text/plain": [
              "<Figure size 432x288 with 1 Axes>"
            ]
          },
          "metadata": {
            "tags": [],
            "needs_background": "light"
          }
        }
      ]
    },
    {
      "cell_type": "code",
      "metadata": {
        "id": "b3GAbJ4Ngk2c"
      },
      "source": [
        "input_values = processor(input_audio, sampling_rate=sample_rate, return_tensors=\"pt\").input_values"
      ],
      "execution_count": 22,
      "outputs": []
    },
    {
      "cell_type": "code",
      "metadata": {
        "id": "fmcdmET7gp7U"
      },
      "source": [
        "logits = model(input_values).logits\n",
        "predicted_ids = torch.argmax(logits, dim=-1)"
      ],
      "execution_count": null,
      "outputs": []
    },
    {
      "cell_type": "code",
      "metadata": {
        "id": "Kj53dfWJgtOz"
      },
      "source": [
        "transcription = processor.decode(predicted_ids[0])"
      ],
      "execution_count": null,
      "outputs": []
    },
    {
      "cell_type": "code",
      "metadata": {
        "id": "dSB0OYYHk7wE"
      },
      "source": [
        "input_values = tokenizer(input_audio, return_tensors=\"pt\").input_values\n"
      ],
      "execution_count": 12,
      "outputs": []
    },
    {
      "cell_type": "code",
      "metadata": {
        "id": "6etC0zsUnrbU"
      },
      "source": [
        "logits = model(input_values).logits\n"
      ],
      "execution_count": null,
      "outputs": []
    },
    {
      "cell_type": "code",
      "metadata": {
        "id": "Qg9lCI8UoQpq"
      },
      "source": [
        "predicted_ids = torch.argmax(logits, dim=-1)\n"
      ],
      "execution_count": null,
      "outputs": []
    },
    {
      "cell_type": "code",
      "metadata": {
        "id": "9NBHw2LalPPC"
      },
      "source": [
        "transcription = tokenizer.decode(predicted_ids[0])\n",
        "#generated transcript\n",
        "transcription"
      ],
      "execution_count": null,
      "outputs": []
    },
    {
      "cell_type": "code",
      "metadata": {
        "id": "7Fkg-EBXgxHp",
        "colab": {
          "base_uri": "https://localhost:8080/",
          "height": 120
        },
        "outputId": "ba88c946-aed5-48d6-d266-76d22c313b7f"
      },
      "source": [
        "\n",
        "target_transcription = open(\"/content/drive/MyDrive/Convin.Ai/task_Script.txt\", \"r\")\n",
        "target_transcription.read()"
      ],
      "execution_count": 17,
      "outputs": [
        {
          "output_type": "execute_result",
          "data": {
            "application/vnd.google.colaboratory.intrinsic+json": {
              "type": "string"
            },
            "text/plain": [
              "\"HELLO EVERYONE THIS IS JANEED HERE FROM\\nEDURAKA AND I WELCOME YOU ALL TO THIS\\nINTERESTING SESSION\\nWHERE WE ARE GOING TO TURN ANY IMAGE\\nTHAT WE GIVE INTO A CARTOONS\\nSO WITHOUT ANY FURTHER ADO LET ME\\nQUICKLY WALK YOU THROUGH TODAY'S AGENDA\\nWE'LL START THIS SESSION BY\\nUNDERSTANDING THE PROBLEM STATEMENT AND\\nWHAT EXACTLY WOULD BE ITS WORKFLOW\\nFOLLOWING THAT I'LL BE WALKING YOU\\nTHROUGH THE DIFFERENT TOOLS AND\\nFRAMEWORKS THAT WE'RE GOING TO USE\\nAND FINALLY WE'LL START BUILDING UP THIS\\nPROJECT ALL RIGHT SO BEFORE WE BEGIN DO\\nCONSIDER SUBSCRIBING TO OUR YOUTUBE\\nCHANNEL AND HIT THE BELL ICON TO STAY\\nUPDATED ON TRENDING TECHNOLOGIES\\nAND ALSO IF YOU'RE LOOKING FORWARD FOR\\nPYTHON TRAINING CERTIFICATION PLEASE\\nCHECK OUT THE LINK GIVEN IN THE\\nDESCRIPTION BOX BELOW\\nALL RIGHT GUYS COMING BACK TO OUR\\nPROJECT RIGHT SO WHAT EXACTLY ARE WE\\nGONNA DO HERE\\nWELL YOU SEE YOU MIGHT HAVE HEARD OF\\nTHESE FILTERS RIGHT LIKE ANYTHING ON\\nSNAPCHAT OR WE ALSO HAVE THIS PIXAR\\nWHEREIN WE PROVIDE ANY INPUT IMAGE AND\\nYOU KNOW WE GET THIS EDGES AND IT'S\\nSOMETHING WE ARE TRYING TO CARTONIFY THE\\nIMAGE\\nSO SIMILAR THING IS WHAT WE ARE GOING TO\\nDO HERE USING PYTHON\\nAND THE LIBRARY THAT I'M GOING TO USE\\nOVER HERE IS GOING TO BE OPENCV ALL\\nRIGHT\\nSO THERE ARE A COUPLE OF STEPS THAT WE\\nARE GOING TO FOLLOW THAT IS GOING TO BE\\nFIRST OFF LOAD OUR IMAGE THEN CREATE AN\\nEDGE MASK\\nTHEN WE GO TO YOU KNOW REDUCE THE NOISE\\nAND ALL SO ON AND SO FORTH\\nSO LET'S NOW MOVE AHEAD AND SEE WHAT\\nWOULD BE ITS UH THE WORKFLOW\\nOKAY FIRST OFF WHAT WE ARE GOING TO DO\\nOVER HERE IS LOAD OUR IMAGE\\nSO THE IMAGE CAN BE ANY IMAGE I WOULD\\nSAY YOU KNOW IT'S BETTER TO TAKE IMAGE\\nOF A HUMAN\\nAND THEN WHAT WE'RE GOING TO DO IS WE'RE\\nGOING TO CREATE A MASK FOLLOWED BY\\nREDUCTION OF NOISE\\nMOVING AHEAD THEN WHAT WE'RE GOING TO DO\\nIS REDUCE THE COLOR PALETTE OVER HERE\\nWHAT DOES THIS COLOR PALETTE MEAN IS\\nLET'S SAY I JUST WANT TO CREATE A\\nCARTOON WHICH HAS ONLY FOUR NUMBER OF\\nCOLORS RIGHT SO THIS IS WHAT WE'RE GOING\\nTO DO\\nAND FINALLY WE ARE GOING TO COMBINE OUR\\nEDGE MASK AND COLOR PALETTE IN ORDER TO\\nCREATE A CARTOON OF ANY GIVEN IMAGE OVER\\nHERE\\nSO WHAT ARE THE DIFFERENT TOOLS AND\\nFRAMEWORKS THAT WE ARE GOING TO USE SO\\nTO START OFF WHAT WE ARE GOING TO DO IS\\nWE ARE GOING TO USE JUPYTER NOTEBOOK\\nALL RIGHT AND THE MAJOR LIBRARY OR THE\\nIMPORTANT LIBRARY THAT WE'RE GOING TO\\nUSE OVER HERE IS GOING TO BE OPENCV 2\\nALL RIGHT AND THEN AS YOU ALL KNOW\\nCOUPLE OF STANDARD LIBRARIES THAT WE'RE\\nGOING TO HAVE IS MATPLOTLIB AND NUMPY\\nAND BEFORE YOU MOVE AHEAD GUYS THE\\nKNOWLEDGE ON PYTHON IS PRETTY ESSENTIAL\\nHERE AND IF YOU'RE SOMEONE WHO IS\\nTOTALLY NEW TO PYTHON PLEASE CHECK OUT\\nTHE PYTHON FULL COURSE LINK\\nWHICH WILL BE GIVEN IN THE DESCRIPTION\\nBOX BELOW SO NOW THAT WE KNOW A BIT\\nABOUT WHAT'S GOING TO HAPPEN AND WHAT WE\\nARE GOING TO WORK ON LET ME QUICKLY JUMP\\nTO MY CODE EDITOR AND SHOW YOU HOW WE\\nCAN BUILD THIS INTERESTING PROJECT ALL\\nRIGHT SO HERE WE ARE THIS IS MY VISUAL\\nSTUDIO CODE\\nALL RIGHT AND NOW WHAT WE'RE GOING TO DO\\nIS FIRST OFF WE'LL TRY TO WRITE DOWN THE\\nSTEPS OKAY LET ME\\nOR BEFORE THAT WHAT WE'LL DO IS LET'S\\nTRY TO IMPORT LIBRARIES FIRST\\nSO WE HAVE IMPORT CV2\\nTHEN WE ALSO NEED IMPORT NUMPY\\nAS NP THEN WE HAVE IMPORT\\nMATPLOTLIB DOT PI PLOT\\nAS PLT ALL RIGHT AND LET'S NOW EXECUTE\\nTHIS OVER HERE\\nFINE NOW IN THE FIRST STAGE OVER HERE\\nLET ME GIVE A COMMENT\\nWE ARE GOING TO LOAD OUR IMAGE AND FOR\\nTHIS WE ARE GOING TO DEFINE A FUNCTION\\nLETS SAY\\nDEF READ FILE AND HERE WE'RE GOING TO\\nGIVE THE PATH\\nSO IT WILL LET'S SAY THIS NAME HAS FILE\\nNAME\\nALL RIGHT AND WE'LL HAVE IMAGE SO THIS\\nWILL BE CV2\\nDOT IMREAD AND YOU JUST HAVE TO GIVE A\\nFILE PATH\\nAND THEN IF YOU WANT TO SEE THE IMAGE\\nIT'S GOING TO BE CV2\\nUNDERSCORE IM SHOW AND WE ARE GOING TO\\nPASS THE FILE NAME\\nOR WHAT WE CAN DO IS IF YOU WANT TO JUST\\nSEE THE IMAGE RIGHT I CAN JUST USE\\nPLT DOT I AM SHOW THEN I JUST HAVE TO\\nPASS THIS IMAGE\\nALL RIGHT AND THEN WE HAVE PLT DOT SHOW\\nAND FINALLY WE SHOULD RETURN THE IMAGE\\nSO THIS WOULD RETURN THE BINARY PART\\nRETURN IMAGE\\nSO THIS IS ALL THERE IS SO LET ME SEE\\nOKAY IT'S NOT GOING TO BE IMAGE IT'S\\nGOING TO BE IMG RIGHT SO IMG\\nBUT BEFORE THAT WE ALSO KNOW THAT\\nWHENEVER THE FILES ARE READ USING CV2\\nTHEY ARE USUALLY READ INTO\\nBGR FORMAT WE'LL CONVERT THAT INTO RGB\\nOKAY SO WE'LL HAVE IMAGE THEN WE HAVE\\nCV2\\nDOTS CONVERT COLOR THAT IS CVT COLOR\\nHERE WE'RE GONNA PASS THE IMAGE THAT I\\nHAVE THAT'S IMAGE\\nTHEN WE HAVE CV2 DOT COLOR\\nOKAY LET ME JUST REDUCE YEAH SEE COLOR\\nWE WANT THIS FOR\\nBGR TO BINARY YEAH IT'S GONNA BE FOR RGB\\nRIGHT SO\\nR G AND B\\nOKAY SO THIS LOOKS GREAT AND I THINK\\nTHIS SHOULD BE FINE\\nLET'S SAVE THIS AND LET'S EXECUTE THIS\\nOVER HERE\\nCOOL SO NOW WHAT I'LL DO IS I'LL ADD AN\\nIMAGE TO OUR DIRECTORY HERE LET ME\\nQUICKLY BROWSE GOOGLE AND ADD AN IMAGE\\nOVER HERE\\nALL RIGHT SO AS YOU CAN SEE HERE I HAVE\\nLOADED MY IMAGE AND\\nGIVE THIS FUNCTION CALL LET'S CALL THIS\\nHERE\\nPASTE IT HERE AND LET'S SAY FILE PATH OR\\nFILE NAME RIGHT\\nSO WE'LL PASTE THIS HERE FILE NAME\\nAND WE'LL PASS A STRING OVER HERE SO\\nWE'LL JUST TAKE THIS AS THIS IS IN THE\\nSAME DIRECTORY WE'LL JUST SAY RELATIVE\\nPATH\\nAND PASS IT OVER HERE AND LET'S TRY TO\\nEXECUTE THIS LET'S SEE IF THIS WORKS\\nSO AS YOU CAN SEE HERE WE ARE GETTING\\nTHIS IMAGE RIGHT BUT\\nNOW I DON'T WANT I DON'T WANT TO SEE\\nWHAT IS THIS ARRAY HERE SO FOR THAT\\nTHE REASON WHY WE ARE GETTING THIS ARRAY\\nIS BECAUSE I'M TRYING TO READ THIS IMAGE\\nHERE\\nSO IF I ADD THIS TO A CERTAIN NAME LET'S\\nSAY\\nIMAGE THEN WE WON'T BE SEEING THAT PART\\nOVER HERE\\nSO AS YOU CAN SEE OVER HERE THIS IS THE\\nIMAGE WHICH WE HAVE LOADED\\nIF YOU WANT TO TURN OFF THE ACCESS WE\\nCAN DO THAT AS WELL PLT DOT\\nACCESS JUST PUT OFF OVER HERE\\nSO IF YOU WANT PLT DOT ACCESS TO BE\\nTURNED OFF YOU HAVE TO USE COUPLE OF\\nLIBRARIES\\nOR I SHOULD SAY A LIBRARY THAT IS VERY\\nSPECIFIC TO JUPYTER NOTEBOOK SO FOR THAT\\nREASON WE'LL JUST AVOID THIS FOR NOW\\nAND JUST FOCUS ON THIS PART\\nALL RIGHT SO AS YOU CAN SEE OUR IMAGE IS\\nLOADING UP PERFECTLY FINE\\nSO NOW WHAT WE ARE GOING TO DO IS WE ARE\\nGOING TO TRY TO CREATE A CARTOON OF THIS\\nAND IF YOU ARE SOMEONE WHO IS WELL\\nVERSED WITH ANIMATION YOU WOULD KNOW\\nTHAT YOU KNOW EDGES PLAY A PRETTY HUGE\\nROLE WHEN IT COMES TO CARTOONS RIGHT\\nSO WHAT WE'LL DO IS WE'LL TRY TO\\nINCREASE THE EDGES OF OUR IMAGE OVER\\nHERE\\nALL RIGHT SO FOR THIS LET'S SAY MARKDOWN\\nAND LET'S GIVE A NAME HERE AS CREATE\\nEDGE MARKS RIGHT SO CREATE\\nEDGE MASK\\nFINE SO WHAT WE'RE GOING TO DO WE HAVE\\nSOMETHING CALLED AS ADAPTIVE THRESHOLD\\nIN OPENCV WHICH WOULD HELP US DO THAT SO\\nWE'LL DEFINE A FUNCTION HERE DEF\\nEDGE MARK ALL RIGHT AND THIS SHOULD TAKE\\nINPUT AS IN IMAGE THEN WE HAVE LINE SIZE\\nTHAT IS THE SIZE THAT YOU WANT TO HAVE\\nFOR YOUR MASK AND BLUR\\nVALUE OKAY SO\\nFIRST OFF WE'LL CONVERT OUR IMAGE FROM\\nRGB TO GRAY\\nWE HAVE CV2 DOT CVT COLOR\\nFIRST OFF IMAGE THE ONE THAT WE ARE\\nGOING TO PASS\\nTHEN WE HAVE CV2 DOT\\nCV OKAY LET ME JUST GO CAPS\\nCOLOR RGB TO GRAY\\nALL RIGHT THIS LOOKS GREAT AND NOW WHAT\\nWE'LL DO IS WE'LL SAY\\nGRAY BLUR SO CV2\\nDOT MEDIAN BLUR WE ARE GOING TO USE\\nTHE OUR GRAY IMAGE ALL RIGHT AND THEN\\nALSO PASS THE BLUR VALUE OKAY\\nAND NOW WHAT WE'LL DO IS WE'LL TAKE THE\\nEDGES HERE\\nSO FOR THIS WE HAVE CV2 NOT ADAPTIVE\\nTHRESHOLD\\nALL RIGHT GUYS SO WITHIN THIS UH THIS\\nTAKES UP COUPLE OF PARAMETERS THE FIRST\\nONE OBVIOUSLY IS GOING TO BE\\nTHE IMAGE SO IT'S GOING TO BE GREY BLUR\\nSO LET ME\\nCOPY THIS FROM HERE MEANWHILE LET ME\\nALSO JUST CHANGE THIS VALUE\\nALL RIGHT AND LET ME COPY THIS FROM HERE\\nAND PASTE IT HERE\\nALL RIGHT AND THEN WE'LL GIVE 255 THAT'S\\nADAPTIVE METHOD AND THEN\\nWE ALSO HAVE THIS BUILT-IN FUNCTION CV2\\nDOT\\nADAPTIVE THRESHOLD MEAN\\nOKAY AND THEN FINALLY WE HAVE\\nBINARY CV2 DOT\\nTHRESHOLD BINARY AND THEN FINALLY WE\\nHAVE LINE SIZE THIS IS THE\\nPARAMETER THAT WE ARE GOING TO GIVE OUT\\nTHAT IS THE THICKNESS OF THE\\nEDGES SO LET'S GIVE THAT AS WELL LINE\\nSIZE\\nAND THEN BLUR VALUE ALL RIGHT\\nSO THIS IS ALL THERE IS OVER HERE AND\\nFINALLY OKAY LET ME JUST DROP THIS DOWN\\nSO THAT IT'S EASIER FOR US TO UNDERSTAND\\nAND FOLLOW UP\\nALL RIGHT AND NOW THIS THING WILL RETURN\\nJUST THE EDGES OKAY\\nEDGES I WILL COPY THE EDGES FROM HERE\\nSO BASICALLY WHAT THIS THING IS DOING IS\\nTHIS IS TAKING IN THE GRAY SCALE LET ME\\nGIVE A COMMENT SO HERE\\nSO THIS TAKES IN GRAYSCALE IMAGE\\nAND OUTPUT OUTPUT HERE IS GOING TO BE\\nJUST THE\\nEDGES RIGHT\\nALL RIGHT SO THIS IS WHAT IS GOING TO\\nHAPPEN HERE LET ME RUN THIS OFF\\nSO AS YOU CAN SEE WE HAVE SUCCESSFULLY\\nRUN THIS AND NOW ALL WE NEED TO DO IS\\nCALL THIS FUNCTION ALL RIGHT WE HAVE TO\\nCALL THIS FUNCTION SO LET ME COPY THIS\\nFROM HERE\\nAND PASTE IT ALL RIGHT AND NOW WE NEED\\nTHE LINE SIZE\\nAND THE BLUR VALUE SO LET'S SAY LINE\\nSIZE WILL GIVE HERE AS\\nFIVE PIXELS YOU CAN GIVE ANY VALUE THAT\\nYOU WANT AND LET ME GIVE FOR BLUR VALUE\\nALSO AS\\nSEVEN SEVEN AND SEVEN EITHER WAY IT\\nDOESN'T MATTER\\nAND THE IMAGE OVER HERE IS GONNA BE THIS\\nONE RIGHT SO OUR INPUT IMAGE\\nALL RIGHT SO HERE I HAVE DONE A SMALL\\nMISTAKE IT'S NOT A GRAYSCALE IMAGE THIS\\nIS GOING TO BE\\nINPUT IMAGE ALL RIGHT WE ARE DONE WITH\\nTHIS\\nLET ME RUN THIS AS WELL SO AS YOU CAN\\nSEE THIS RETURNS AS ONE\\nMATRIX WHAT I'M GOING TO DO IS I LET'S\\nPLOT HOW DOES THIS LOOKS LIKE\\nSO LET'S SAY EDGES IS EQUAL TO THIS AND\\nLET'S TRY TO PLOT THIS OFF\\nPLT DOT IM SHOW EDGES\\nALL RIGHT AND THEN PLT DOT SHOW\\nSO AS YOU CAN SEE THIS IS WHAT WE ARE\\nGETTING HERE IF YOU WANT ME TO ENHANCE\\nTHIS LIKE WHAT I CAN DO IS C\\nMAP IS EQUAL TO GRAY\\nOKAY THAT'S BECAUSE WE GAVE THIS AS AN\\nUPPERCASE LET'S RUN THIS AGAIN\\nSO AS YOU CAN SEE HERE WE HAVE JUST THE\\nEDGES RIGHT\\nIF YOU WANT TO REDUCE THE THICKNESS OF\\nTHIS IT'S PRETTY EASY WE JUST HAVE TO\\nCHANGE THE LINE SIZE LET'S SAY 5 PIXELS\\nAND NOW SEE\\nTHE THICKNESS HAS REDUCED ALL RIGHT AND\\nWE CAN ALSO GIVE C MAP IS EQUAL TO\\nBINARY\\nNOW YOU'LL SEE A BLACK IMAGE WITH A\\nBLACK BACKGROUND WE HAVE JUST WHITE ONES\\nSO EVEN THIS IS FINE EITHER WAY IT\\nDOESN'T MATTER RIGHT BECAUSE\\nTHIS IS THE OUTPUT THAT WE HAVE SHOWING\\nOVER HERE OKAY SO NOW THAT WE HAVE GOT\\nTHE UH IMAGES\\nWHAT WE ARE GOING TO DO IS REDUCE THE\\nCOLOR PALETTE SO WHAT DOES THIS COLOR\\nPALETTE MEAN LET ME SCROLL UP\\nSO AS YOU CAN SEE OVER HERE WE HAVE\\nMULTIPLE COLORS HERE\\nNOW WHAT I WANT TO DO IS I DON'T WANT\\nALL OF THESE COLORS LET'S SAY I WANT TO\\nFOCUS ON JUST\\nYOU KNOW JUST THREE COLORS OR SO SO\\nTHAT'S WHAT WE ARE GOING TO DO HERE\\nLET'S SAY LET ME GIVE A COMMENT HERE\\nREDUCE THE COLOR PALETTE\\nAND LET ME REDUCE THIS AS WELL OKAY\\nSO NOW WHAT'S GOING TO HAPPEN AS I\\nMENTIONED EARLIER WE JUST WANT TO REDUCE\\nTHE NUMBER OF COLORS THAT WE ARE TRYING\\nTO USE HERE\\nSO EVEN FOR THIS WE ARE GOING TO WRITE A\\nFUNCTION THAT IS DEF\\nCOLOR QUANTIZATION AND THIS TAKES IN THE\\nINPUT THAT IS THE IMAGE\\nAND THEN LET'S SAY WE'LL DEFINE A\\nVARIABLE HERE CALLED AS K\\nOR C ANY VARIABLE THAT YOU CAN TAKE AND\\nTHIS BASICALLY REFERS TO YOU KNOW HOW\\nMANY NUMBER OF COLORS YOU WANT TO\\nSHOW SO FIRST OFF WE'LL TRANSFORM THE\\nIMAGE SO\\nFIRST OFF THAT WILL BE TRANSFORM THE\\nIMAGE\\nWHAT THIS MEANS IS UH WE'LL TRY TO\\nRESHAPE THIS OFF\\nSO WE'LL HAVE DATA IS EQUAL TO NP DOT\\nFLOAT\\nAND WE'RE GONNA PASS IMAGE HERE THIS IS\\nGONNA BE THE INPUT IMAGE\\nRIGHT AND THEN WE'LL JUST RESHAPE MINUS\\nONE COMMA THREE\\nTHEN LET'S DETERMINE THE CRITERIA\\nAND HERE WE'LL HAVE LIKE SOMETHING LIKE\\nCV2 DOT\\nTERM CRITERIA\\nALL RIGHT PLUS CV2\\nSORRY THIS IS GOING TO BE LOWERCASE CV2\\nDOT TERM CRITERIA MAX ITERATOR\\nALL RIGHT AND NOW WE'LL GIVE 20 HERE\\nAND THEN 0.01 THIS LOOKS GREAT\\nAND NOW FINALLY WE ARE GOING TO\\nIMPLEMENT HERE K MEANS CLUSTERING RIGHT\\nOKAY SO WE HAVE RET THEN WE HAVE LABEL\\nAND THEN CENTER SO WHAT WE'LL DO IS CV2\\nDOT K MEANS WE'RE GONNA PASS DATA HERE\\nAND THEN WE NEED THE NUMBER OF CENTROIDS\\nTHAT IS K\\nTHEN WE NEED THE LABEL SO THAT IS NONE\\nOVER HERE THEN WE HAVE THE CRITERIA THAT\\nWE WANT\\nLET ME JUST COPY THIS FROM HERE AND ADD\\nIT HERE\\nAND THEN WE'LL SAY 10 AND THEN WE'LL\\nHAVE CB2 DOT\\nLIKE RANDOM K MEANS RIGHT SO C V TWO DOT\\nK MEANS RANDOM CLUSTERS RANDOM CENTERS\\nOKAY SO BASICALLY WE'RE ALSO TRYING TO\\nHAVE A MACHINE LEARNING OVER HERE\\nPART OF IT ALL RIGHT SO NOW WE'LL HAVE\\nCENTERS\\nLET'S SAY CENTER WE HAVE CENTER IS EQUAL\\nTO\\nNP DOT UNIT THAT'S UNIT 8 LET'S SAY YEAH\\nAND THEN WE'LL JUST PASS CENTER HERE ALL\\nRIGHT\\nAND FINALLY A RESULT IS EQUAL TO CENTER\\nWHEREIN I HAVE LABEL DOT FLATTEN\\nAND PASS THIS OFF SO FINALLY RESULT\\nIS EQUAL TO RESULT DOT RESHAPE\\nIMAGE SHAPE AND THIS WOULD RETURN THE\\nRESULT\\nSO THAT MEANS WE DO NOT HAVE ANY\\nSYNTACTICAL ERROR AS I HAVE WRITTEN THIS\\nUH AS I HAVE TRIED TO EXECUTE THIS ALL\\nRIGHT SO NOW WHAT WE'LL DO\\nWE'LL LET'S SAY LET'S TAKE UP AN IMAGE\\nLET'S SAY\\nIMG THIS WILL BE COLOR QUANTIZATION WE\\nI'LL BASICALLY TRY TO CALL THIS FUNCTION\\nAND NOW HERE K RIGHT WE JUST WANT NUMBER\\nOF DOMINANT COLOR LET'S SAY INSTEAD OF\\nMINI WE'LL JUST GIVE TWO OKAY THIS HAS\\nRAN SUCCESSFULLY\\nLET'S TRY TO UH PLOT THIS UP AND LET'S\\nSEE WHAT HAPPENS SO WE'LL\\nHAVE PLT DOT I AM SURE INSTEAD OF THAT\\nLET'S COPY THIS FROM HERE\\nRIGHT SO PLT DOT IM SHOW LET ME COPY IT\\nFROM HERE\\nAND PASTE IT AND HERE WE WON'T BE HAVING\\nBINARY\\nINSTEAD WE'LL JUST HAVE IMAGE\\nSO AS YOU CAN SEE WE HAVE JUST TWO OF\\nTHE MOST PROMINENT COLORS RIGHT\\nNOW LET'S SAY I JUST WANT THREE COLORS\\nAND NOW IF I EXECUTE THIS OKAY IT'S NOT\\nSHOWING ME HERE LET'S SAY\\nI WANT FIVE COLORS OBVIOUSLY THERE ARE\\nDIFFERENT PROMINENT COLORS\\nWHAT HAPPENS LET'S SEE WHAT HAPPENS IF I\\nJUST GIVE ONE RIGHT LET'S LET'S HAVE A\\nLOOK INTO THIS\\nSO AS YOU CAN SEE WE JUST HAVE ONE\\nPROMINENT COLOR HERE\\nALL RIGHT SO REASON WHY WE ARE GETTING\\nTHIS ERROR RIGHT LIKE THE REASON WHY WE\\nARE NOT GETTING\\nTHE CHANGES IN THE COLOR IS BECAUSE OF\\nMY FAULT WHAT I'VE DONE IS WE ARE TRYING\\nTO CHANGE THE COLOR RIGHT AND WE ARE\\nGIVING THE SAME NAME OVER HERE\\nSO WHAT WE'LL DO INSTEAD OF GIVING THE\\nSAME NAME WE'LL SAY\\nIMAGE QUANTIZE ALL RIGHT IMAGE QUANTIZE\\nAND LET'S TRY TO RERUN EVERYTHING FROM\\nTHE START\\nOKAY SO AS YOU CAN SEE NOW WE'LL JUST WE\\nJUST WANT TO SEE WHAT ARE THE PROMINENT\\nTWO COLORS LET'S TRY TO DO THAT\\nOKAY SO AS YOU CAN SEE THESE ARE THE\\nPROMINENT TWO COLORS THAT WE HAVE\\nRIGHT THE GREEN AND THE GRAY ONES ALL\\nRIGHT SO THIS IS ALL THERE IS ABOUT YOU\\nKNOW\\nQUANTIZATION OF A COLOR SO WHAT WE'LL DO\\nNOW IN THE NEXT STAGE\\nWE'RE GOING TO MERGE WHATEVER THE IMAGE\\nTHAT WE HAVE QUANTIZED RIGHT LIKE THE\\nLIMITED NUMBER OF IMAGES\\nAND THEN THESE BOUNDARIES OKAY AND LET'S\\nSEE WHAT HAPPENS\\nTHAT IS LET ME GIVE A COMMENT HERE YOU\\nKNOW COMBINE\\nEDGE MASK WITH\\nTHE QUANTIZED COLOR OKAY THAT IS\\nQUANTIZED IMAGE OVER HERE\\nOKAY BUT BEFORE THAT WHAT WE'LL DO IS\\nLET'S TRY TO ADD UP A FILTER JUST SO\\nTHAT WE REDUCE SOME MORE NOISE SO LET ME\\nGIVE\\nTHAT AS A COMMENT HERE LET'S SAY WE WANT\\nTO REDUCE THE NOISE\\nSO IN ORDER TO REDUCE THE NOISE WE'RE\\nGOING TO PASS THIS THROUGH A FILTER\\nLET'S SAY WE HAVE\\nTHIS BLURRED RIGHT SO BLU R E D LET'S\\nSAY BLURRED THEN WE HAVE THIS FILTER CV2\\nDOT\\nBILATERAL FILTER OKAY BILATERAL FILTER\\nAND NOW WE JUST HAVE TO PASS THE IMAGE\\nTHAT IS THE IMAGE THAT HAS BEEN\\nQUANTIZED\\nTHEN WE HAVE D IS EQUAL TO 7 D HERE IS\\nNOTHING BUT DIAMETER OF EACH PIXEL SO\\nTHAT'S GONNA BE SEVEN AND THEN WE HAVE\\nSIGMA COLOR\\nSO LET'S GIVE THIS AS 200 AND THEN WE\\nHAVE SIGMA SPACE\\nI WILL GIVE EVEN THIS AS 200 OVER HERE\\nAND NOW WHAT WE'LL DO LET'S TRY TO PLOT\\nTHIS AS WELL\\nLET ME GET THIS AND PLOT IT OVER HERE\\nAND WE JUST NEED TO SEE HOW THIS WOULD\\nLOOK LIKE WE'LL COPY THIS\\nAND PASTE IT OVER HERE SO AS YOU CAN SEE\\nOUR IMAGE IS SUBSTANTIALLY BLURRED UP\\nRIGHT SO COMPARED TO WHAT IT WAS OVER\\nHERE\\nALL RIGHT SO IN THE NEXT STAGE AS I\\nMENTIONED EARLIER WE ARE GOING TO\\nCOMBINE\\nTHE EDGE MASK WITH THE QUANTIZES IMAGE\\nRIGHT SO WE ARE GOING TO COMBINE THIS\\nWITH OUR EDGES OVER HERE SO LET'S WRITE\\nA FUNCTION FOR THAT\\nOKAY INSTEAD OF WRITING A FUNCTION WE\\nCAN JUST DIRECTLY PASS THIS THROUGH HERE\\nOR YOU CAN ALSO WRITE\\nTHE FUNCTION SO YOU KNOW LET'S SAY DEF\\nCARTOON\\nALL RIGHT AND THIS THING WHAT IT DO IT\\nWOULD DO IS IT TAKES TWO PARAMETERS\\nOKAY OR LET'S SAY IT WOULD JUST TAKE\\nTHIS BLURRED IMAGE PARAMETER RIGHT SO IT\\nWILL JUST TAKE THIS PARAMETER HERE\\nBLURRED AND LET ME PASTE IT OVER HERE SO\\nFOR THIS WHAT WE ARE GOING TO DO IS\\nLET'S SAY WE HAVE C\\nTHEN WE HAVE CV2 DOT BITWISE AND\\nAND THIS WOULD JUST LIKE END UP THIS\\nVALUE\\nBLURRED LET ME COPY THIS FROM HERE\\nAND THEN WE NEED MASK EDGES RIGHT SO WE\\nCOPY THIS\\nAND WE ALSO HAVE THIS MASK RIGHT SO MASK\\nSO THIS WOULD BE THE EDGES VALUE AND THE\\nEDGES VALUE IS SOMEWHERE OVER HERE\\nON TOP THIS VALUE RIGHT SO THIS IS EDGES\\nSO LET ME COPY THE EDGES HERE\\nAND LET ME PASTE IT HERE ALL RIGHT AND\\nWHAT\\nTHIS FUNCTION WILL DO IS THIS WOULD BE\\nLIKE PLT DOT PLOT\\nSORRY IT'S GOING TO BE I AM SURE WE'RE\\nGOING TO SHOW C\\nAND THEN PLT DOT SHOW\\nWE'LL DO ONE THING LET'S NOT SEND ANY\\nPARAMETER HERE WE'LL JUST\\nLET IT BE THE WAY IT IS AND NOW ALL WE\\nNEED TO DO IS HAVE A FUNCTION CALL\\nLET'S SAY JUST CARTOON AND LET'S SEE\\nWHAT THIS WOULD LOOK LIKE\\nSO AS YOU CAN SEE HERE WE HAVE TRIED TO\\nCREATE A CARTOON IMAGE OF THIS\\nSO LET'S GIVE SOME MORE TRIAL HERE\\nINSTEAD OF THIS\\nLET'S TRY REDUCING THIS TO THREE AND LET\\nME\\nCHANGE THIS FROM K TWO TO NINE AND LET\\nME RE-EXECUTE THIS AND LET'S SEE WHAT\\nHAPPENS\\nOKAY SO AS YOU CAN SEE HERE WE ARE\\nGETTING SOME OF THE DOMINANT OTHER\\nCOLORS\\nAND LET'S NOW SEE HOW THIS CARTOON WOULD\\nLOOK LIKE YES SO AS YOU CAN SEE HERE\\nWE HAVE TRIED TO MAKE CARTOON UNIFIED\\nVERSION OF THIS RIGHT\\nSO LET ME PLOT THIS SIDE BY SIDE LET'S\\nALSO SEE THE ORIGINAL IMAGE\\nFOR THAT WHAT I'LL DO IS I'LL DO A SMALL\\nCHANGE THAT IS\\nALL RIGHT WE'LL TRY TO RUN EVERYTHING\\nHERE\\nAND FINALLY LET'S TRY TO PLOT THIS UP\\nOKAY SO WE'LL ALSO TRY TO PLOT OUR\\nORIGINAL IMAGE SO LET ME COPY THIS\\nAND WRITE ONE MORE FUNCTION OKAY AND\\nLET'S EXECUTE THIS\\nSO AS YOU CAN SEE HERE THIS IS OUR\\nORIGINAL IMAGE LET ME ZOOM OUT\\nUH BEFORE THAT LET ME ALSO GIVE THIS\\nTHING HERE TITLE PLT DOT TITLE\\nORIGINAL IMAGE AND THIS IS GONNA BE\\nCARTOONIFIED IMAGE RIGHT SO\\nAND LET'S TRY TO RE RUN THIS AND LET'S\\nSEE WHAT HAPPENS\\nSO AS YOU CAN SEE HERE WE HAVE ORIGINAL\\nIMAGE AND THE CARD UNIFIED IMAGE\\nLET'S TRY DOING THIS WITH SOME OTHER\\nIMAGES\\nLET ME TAKE COUPLE MORE IMAGES FROM\\nGOOGLE AND LET'S SEE WHAT HAPPENS\\nALRIGHT GUYS SO LET'S TRY TO LOAD\\nANOTHER IMAGE LET ME JUST COME HERE\\nWE HAVE THIS ANOTHER IMAGE HERE LET ME\\nCOPY THE RELATIVE PATH\\nAND LET ME ADD THIS PATH OVER HERE ALL\\nRIGHT AND LET ME RUN\\nALL AND LET'S SEE WHAT HAPPENS SO THIS\\nIS OUR ORIGINAL IMAGE\\nLET'S SEE THE ORIGINAL AND EVERYTHING AT\\nTHE END\\nSO LET'S SEE WHAT HAPPENS\\nSO AS YOU CAN SEE HERE WE HAVE TRIED TO\\nBLURRED AND WE ARE TRYING TO CARTOONY\\nFIVE\\nYOU KNOW THE IMAGES THAT WE HAVE WELL\\nYOU CAN DO SOME MORE MODIFICATIONS YOU\\nCAN INCREASE THE THICKNESS OF YOUR LINE\\nAND UH THAT WOULD EVEN MORE ENHANCE THE\\nLOOK AND FEEL OF YOUR\\nOF YOUR IMAGE SO LET'S SAY I WANT TO\\nCHANGE THIS FROM FIVE LET'S SAY EIGHT\\nAND EVEN THIS LET'S SAY EIGHT AND TRY TO\\nRUN ALL OF THIS\\nFROM THE START\\nOKAY THE REASON WHY WE ARE GETTING THIS\\nERROR IS BECAUSE WE HAVE TO RUN THIS\\nFROM THE START RIGHT SO LET ME\\nJUST RESTART THIS KERNEL AND RUN IT ALL\\nAGAIN OKAY\\nAND THIS VALUE WOULD RANGE FROM SEVEN\\nCOMMA SEVEN ALL RIGHT AND LET'S TRY TO\\nJUST RERUN THIS AND RUN ALL\\nOKAY SO AS YOU CAN SEE HERE WE ARE\\nGETTING THIS IMAGE\\nUH THIS IS THE ORIGINAL IMAGE THE WAY IT\\nIS AND THEN WE TRY TO CARTONIFY IT AND\\nTHIS IS HOW IT WOULD LOOK LIKE\\nWELL YOU CAN MODIFY THIS IN YOUR OWN WAY\\nAND THIS IS JUST THE TIP OF ICEBERG THAT\\nYOU CAN DO WITH OPENCV\\nAND YOU KNOW IF YOU HAVE ANY UH IF YOU\\nHAVE PERFORMED ANY IMPROVEMENTS YOU KNOW\\nYOU CAN DEFINITELY\\nPROVIDE YOUR GITHUB LINK IN THE COMMENT\\nBOX BELOW ALL RIGHT GUYS WITH THIS WE\\nCOME TO THE END OF OUR SESSION I HOPE\\nYOU ENJOYED AND LEARNED SOMETHING NEW\\nIF YOU HAVE ANY FURTHER QUERIES PLEASE\\nDO MENTION THEM IN THE COMMENT BOX BELOW\\nUNTIL NEXT TIME GOODBYE AND TAKE CARE I\\nHOPE YOU HAVE ENJOYED LISTENING TO THIS\\nVIDEO\\nPLEASE BE KIND ENOUGH TO LIKE IT AND YOU\\nCAN COMMENT\\nANY OF YOUR DOUBTS AND QUERIES AND WE\\nWILL REPLY THEM\\nAT THE EARLIEST DO LOOK OUT FOR MORE\\nVIDEOS IN OUR PLAYLIST\\nAND SUBSCRIBE TO EDUREKA CHANNEL TO\\nLEARN MORE\\nHAPPY LEARNING\\nYOU\\n\""
            ]
          },
          "metadata": {
            "tags": []
          },
          "execution_count": 17
        }
      ]
    },
    {
      "cell_type": "code",
      "metadata": {
        "colab": {
          "base_uri": "https://localhost:8080/"
        },
        "id": "33yR3nwEg0Ak",
        "outputId": "9aa31ccb-b05b-47eb-b837-6eee8d6183ce"
      },
      "source": [
        "with processor.as_target_processor():\n",
        "  labels = processor(target_transcription, return_tensors=\"pt\").input_ids\n",
        "\n",
        "# compute loss by passing labels\n",
        "loss = model(input_values, labels=labels).loss\n",
        "loss.backward()"
      ],
      "execution_count": null,
      "outputs": [
        {
          "output_type": "stream",
          "text": [
            "/usr/local/lib/python3.7/dist-packages/torch/_tensor.py:575: UserWarning: floor_divide is deprecated, and will be removed in a future version of pytorch. It currently rounds toward 0 (like the 'trunc' function NOT 'floor'). This results in incorrect rounding for negative values.\n",
            "To keep the current behavior, use torch.div(a, b, rounding_mode='trunc'), or for actual floor division, use torch.div(a, b, rounding_mode='floor'). (Triggered internally at  /pytorch/aten/src/ATen/native/BinaryOps.cpp:467.)\n",
            "  return torch.floor_divide(self, other)\n"
          ],
          "name": "stderr"
        }
      ]
    }
  ]
}